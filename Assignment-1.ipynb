{
 "cells": [
  {
   "cell_type": "markdown",
   "id": "70d01df8-c4d2-4b35-83f3-865e1eddaf56",
   "metadata": {},
   "source": [
    "Q1"
   ]
  },
  {
   "cell_type": "code",
   "execution_count": 2,
   "id": "d44ceff8-9da3-4e71-b259-424a133755a6",
   "metadata": {},
   "outputs": [
    {
     "name": "stdout",
     "output_type": "stream",
     "text": [
      "reversed_array: [5 4 3 2 1]\n"
     ]
    }
   ],
   "source": [
    "import numpy as np\n",
    "arr=np.array([1,2,3,4,5])\n",
    "reversed_arr=arr[::-1]\n",
    "print(\"reversed_array:\",reversed_arr)"
   ]
  },
  {
   "cell_type": "code",
   "execution_count": 4,
   "id": "2ad3f815-8d8a-426b-8227-d054f410749b",
   "metadata": {},
   "outputs": [
    {
     "name": "stdout",
     "output_type": "stream",
     "text": [
      "[1 2 3 4]\n"
     ]
    }
   ],
   "source": [
    "array1=np.array([[1,2],[3,4]])\n",
    "print(array1.flatten())"
   ]
  },
  {
   "cell_type": "code",
   "execution_count": 5,
   "id": "c7bd3356-6820-4b49-a918-cd9658caf7e2",
   "metadata": {},
   "outputs": [
    {
     "name": "stdout",
     "output_type": "stream",
     "text": [
      "True\n"
     ]
    }
   ],
   "source": [
    "a1 = np.array([[1, 2], [3, 4]])\n",
    "a2 = np.array([[1, 2], [3, 4]])\n",
    "print(np.array_equal(a1, a2))"
   ]
  },
  {
   "cell_type": "code",
   "execution_count": 11,
   "id": "03743bb7-13fb-4c49-a7e8-bd7c853d66a4",
   "metadata": {},
   "outputs": [
    {
     "name": "stdout",
     "output_type": "stream",
     "text": [
      "Most frequent: 1 Indices: (array([0, 5, 7, 8, 9]),)\n",
      "Most frequent: 1 Indices: (array([0, 1, 2]),)\n"
     ]
    }
   ],
   "source": [
    "x = np.array([1,2,3,4,5,1,2,1,1,1])\n",
    "val = np.bincount(x).argmax()\n",
    "print(\"Most frequent:\", val, \"Indices:\", np.where(x == val))\n",
    "y = np.array([1,1,1,2,3,4,2,4,3,3,])\n",
    "val1 = np.bincount(x).argmax()\n",
    "print(\"Most frequent:\", val1, \"Indices:\", np.where(y == val1))\n"
   ]
  },
  {
   "cell_type": "code",
   "execution_count": 9,
   "id": "e3b8d730-5072-4b09-9738-05d88e53ebd3",
   "metadata": {},
   "outputs": [
    {
     "name": "stdout",
     "output_type": "stream",
     "text": [
      "45\n",
      "[[14]\n",
      " [16]\n",
      " [15]]\n",
      "[[20  9 16]]\n"
     ]
    }
   ],
   "source": [
    "gfg=np.matrix([[4,1,9],[12,3,1],[4,5,6]])\n",
    "print(gfg.sum())\n",
    "print(gfg.sum(axis=1))\n",
    "print(gfg.sum(axis=0))"
   ]
  },
  {
   "cell_type": "code",
   "execution_count": 10,
   "id": "8354cf63-af1b-4120-ab82-a1c4cef6ef15",
   "metadata": {},
   "outputs": [
    {
     "name": "stdout",
     "output_type": "stream",
     "text": [
      "176\n",
      "EigResult(eigenvalues=array([98.16835147, 28.097044  , 49.73460452]), eigenvectors=array([[ 0.4574917 ,  0.34637121, -0.15017693],\n",
      "       [ 0.28447814, -0.72784061, -0.4852124 ],\n",
      "       [ 0.84248058,  0.59184038,  0.8614034 ]]))\n",
      "[[ 0.02404141 -0.00911212 -0.00444671]\n",
      " [-0.01667882  0.02966905  0.0024785 ]\n",
      " [ 0.00631287 -0.01603732  0.01217379]]\n",
      "137180.0000000001\n"
     ]
    }
   ],
   "source": [
    "n_array = np.array([[55,25,15],[30,44,2],[11,45,77]])\n",
    "print(np.trace(n_array))\n",
    "print(np.linalg.eig(n_array))\n",
    "print(np.linalg.inv(n_array))\n",
    "print(np.linalg.det(n_array))"
   ]
  },
  {
   "cell_type": "code",
   "execution_count": 12,
   "id": "1155f082-41dc-4a93-8710-8bd3366cc73e",
   "metadata": {},
   "outputs": [
    {
     "name": "stdout",
     "output_type": "stream",
     "text": [
      "[[16 19]\n",
      " [26 31]]\n",
      "[[0.5 0.5 0.5 0.5]\n",
      " [0.5 0.5 0.5 0.5]\n",
      " [0.5 0.5 0.5 0.5]\n",
      " [0.5 0.5 0.5 0.5]]\n"
     ]
    }
   ],
   "source": [
    "p = np.array([[1, 2], [2, 3]])\n",
    "q = np.array([[4, 5], [6, 7]])\n",
    "print(np.dot(p, q))\n",
    "print(np.cov(p, q))"
   ]
  },
  {
   "cell_type": "code",
   "execution_count": 13,
   "id": "2f5c7a4e-0d2b-49af-b03d-5b4bbe67c4f3",
   "metadata": {},
   "outputs": [
    {
     "name": "stdout",
     "output_type": "stream",
     "text": [
      "[[17 52]\n",
      " [13 62]]\n",
      "[[ 2 10  0 10 20  6]\n",
      " [ 3 15  0 15 30  9]\n",
      " [ 4 20  0 20 40 12]\n",
      " [ 3 15  0 15 30  9]\n",
      " [ 2 10  0 10 20  6]\n",
      " [ 9 45  0 45 90 27]]\n",
      "[[ 2  1]\n",
      " [ 2  5]\n",
      " [ 2  0]\n",
      " [ 2  5]\n",
      " [ 2 10]\n",
      " [ 2  3]\n",
      " [ 3  1]\n",
      " [ 3  5]\n",
      " [ 3  0]\n",
      " [ 3  5]\n",
      " [ 3 10]\n",
      " [ 3  3]\n",
      " [ 4  1]\n",
      " [ 4  5]\n",
      " [ 4  0]\n",
      " [ 4  5]\n",
      " [ 4 10]\n",
      " [ 4  3]\n",
      " [ 3  1]\n",
      " [ 3  5]\n",
      " [ 3  0]\n",
      " [ 3  5]\n",
      " [ 3 10]\n",
      " [ 3  3]\n",
      " [ 2  1]\n",
      " [ 2  5]\n",
      " [ 2  0]\n",
      " [ 2  5]\n",
      " [ 2 10]\n",
      " [ 2  3]\n",
      " [ 9  1]\n",
      " [ 9  5]\n",
      " [ 9  0]\n",
      " [ 9  5]\n",
      " [ 9 10]\n",
      " [ 9  3]]\n"
     ]
    }
   ],
   "source": [
    "x = np.array([[2, 3, 4], [3, 2, 9]])\n",
    "y = np.array([[1, 5, 0], [5, 10, 3]])\n",
    "print(np.inner(x, y))\n",
    "print(np.outer(x, y))\n",
    "print(np.array(np.meshgrid(x.flatten(), y.flatten())).T.reshape(-1, 2))"
   ]
  },
  {
   "cell_type": "markdown",
   "id": "69957802-21b4-4197-b040-34377d81350d",
   "metadata": {},
   "source": [
    "Q2"
   ]
  },
  {
   "cell_type": "code",
   "execution_count": 20,
   "id": "c5a27e84-fe2e-4ae3-9e53-b849a6fd9fec",
   "metadata": {},
   "outputs": [
    {
     "name": "stdout",
     "output_type": "stream",
     "text": [
      "[[1 2 3]\n",
      " [4 5 6]]\n",
      "[-2.75 -0.25 -3.75]\n",
      "[-1.5  1.5 -1.5]\n",
      "[-0.25  3.25  0.75]\n",
      "[-0.5 -5. ]\n",
      "[ 1. -4.]\n",
      "[2.  0.5]\n",
      "[-1.5  1.5 -1.5]\n",
      "[-1.5  1.5 -1.5]\n",
      "[2.5 3.5 4.5]\n",
      "[ 0.66666667 -1.66666667]\n",
      "[ 1. -4.]\n",
      "[2.05480467 4.78423336]\n",
      "Floor: [-2. -2. -1.  0.  1.  1.  3.]\n",
      "Ceiling: [-1. -1. -0.  1.  2.  2.  3.]\n",
      "Truncated: [-1. -1. -0.  0.  1.  1.  3.]\n",
      "Round: [-2. -2. -0.  0.  2.  2.  3.]\n"
     ]
    }
   ],
   "source": [
    "arr=np.array([[1,-2,3],[-4,5,-6]])\n",
    "print(np.abs(arr))\n",
    "print(np.percentile(arr,25,axis=0))\n",
    "print(np.percentile(arr,50,axis=0))\n",
    "print(np.percentile(arr,75,axis=0))\n",
    "print(np.percentile(arr,25,axis=1))\n",
    "print(np.percentile(arr,50,axis=1))\n",
    "print(np.percentile(arr,75,axis=1))\n",
    "print(np.mean(arr,axis=0))\n",
    "print(np.median(arr,axis=0))\n",
    "print(np.std(arr,axis=0))\n",
    "print(np.mean(arr,axis=1))\n",
    "print(np.median(arr,axis=1))\n",
    "print(np.std(arr,axis=1))\n",
    "\n",
    "a = np.array([-1.8, -1.6, -0.5, 0.5, 1.6, 1.8, 3.0])\n",
    "print(\"Floor:\",np.floor(a))\n",
    "print(\"Ceiling:\",np.ceil(a))\n",
    "print(\"Truncated:\",np.trunc(a))\n",
    "print(\"Round:\",np.round(a))"
   ]
  },
  {
   "cell_type": "markdown",
   "id": "64b2eda1-a213-4e72-b956-85da0e15a7cf",
   "metadata": {},
   "source": [
    "Q3"
   ]
  },
  {
   "cell_type": "code",
   "execution_count": 21,
   "id": "02424b77-03b5-4713-85a1-e2b7bf9becd9",
   "metadata": {},
   "outputs": [
    {
     "name": "stdout",
     "output_type": "stream",
     "text": [
      "Sorted: [ 10  16  16  52  54  62 453]\n",
      "Indices: [0 3 4 1 5 2 6]\n",
      "4 smallest: [10 16 16 52]\n",
      "5 largest: [ 16  52  54  62 453]\n"
     ]
    }
   ],
   "source": [
    "arr = np.array([10, 52, 62, 16, 16, 54, 453])\n",
    "print(\"Sorted:\",np.sort(arr))\n",
    "print(\"Indices:\",np.argsort(arr))\n",
    "print(\"4 smallest:\",np.sort(arr)[:4])\n",
    "print(\"5 largest:\",np.sort(arr)[-5:])\n"
   ]
  },
  {
   "cell_type": "code",
   "execution_count": 22,
   "id": "a97c0af4-c3c5-41a4-ae2e-80870ca53e26",
   "metadata": {},
   "outputs": [
    {
     "name": "stdout",
     "output_type": "stream",
     "text": [
      "Integer elements: [1. 2. 3. 2.]\n",
      "Float elements: [1.2 2.2]\n"
     ]
    }
   ],
   "source": [
    "array = np.array([1.0, 1.2, 2.2, 2.0, 3.0, 2.0])\n",
    "integers = array[array == array.astype(int)]\n",
    "print(\"Integer elements:\", integers)\n",
    "floats = array[array != array.astype(int)]\n",
    "print(\"Float elements:\", floats)\n"
   ]
  },
  {
   "cell_type": "markdown",
   "id": "7a88c842-9e72-436b-bc24-b3bde1270635",
   "metadata": {},
   "source": [
    "Q4"
   ]
  },
  {
   "cell_type": "code",
   "execution_count": null,
   "id": "678e3103-fbfa-4b1d-a113-38f2fd3199bf",
   "metadata": {},
   "outputs": [],
   "source": []
  }
 ],
 "metadata": {
  "kernelspec": {
   "display_name": "Python [conda env:base] *",
   "language": "python",
   "name": "conda-base-py"
  },
  "language_info": {
   "codemirror_mode": {
    "name": "ipython",
    "version": 3
   },
   "file_extension": ".py",
   "mimetype": "text/x-python",
   "name": "python",
   "nbconvert_exporter": "python",
   "pygments_lexer": "ipython3",
   "version": "3.13.5"
  }
 },
 "nbformat": 4,
 "nbformat_minor": 5
}
